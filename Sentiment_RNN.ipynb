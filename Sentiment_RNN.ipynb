{
 "cells": [
  {
   "cell_type": "markdown",
   "metadata": {},
   "source": [
    "# Sentiment Analysis with an RNN\n",
    "\n",
    "In this notebook, you'll implement a recurrent neural network that performs sentiment analysis. \n",
    ">Using an RNN rather than a strictly feedforward network is more accurate since we can include information about the *sequence* of words. \n",
    "\n",
    "Here we'll use a dataset of movie reviews, accompanied by sentiment labels: positive or negative.\n",
    "\n",
    "<img src=\"assets/reviews_ex.png\" width=40%>\n",
    "\n",
    "### Network Architecture\n",
    "\n",
    "The architecture for this network is shown below.\n",
    "\n",
    "<img src=\"assets/network_diagram.png\" width=40%>\n",
    "\n",
    ">**First, we'll pass in words to an embedding layer.** We need an embedding layer because we have tens of thousands of words, so we'll need a more efficient representation for our input data than one-hot encoded vectors. You should have seen this before from the Word2Vec lesson. You can actually train an embedding with the Skip-gram Word2Vec model and use those embeddings as input, here. However, it's good enough to just have an embedding layer and let the network learn a different embedding table on its own. *In this case, the embedding layer is for dimensionality reduction, rather than for learning semantic representations.*\n",
    "\n",
    ">**After input words are passed to an embedding layer, the new embeddings will be passed to LSTM cells.** The LSTM cells will add *recurrent* connections to the network and give us the ability to include information about the *sequence* of words in the movie review data. \n",
    "\n",
    ">**Finally, the LSTM outputs will go to a sigmoid output layer.** We're using a sigmoid function because positive and negative = 1 and 0, respectively, and a sigmoid will output predicted, sentiment values between 0-1. \n",
    "\n",
    "We don't care about the sigmoid outputs except for the **very last one**; we can ignore the rest. We'll calculate the loss by comparing the output at the last time step and the training label (pos or neg)."
   ]
  },
  {
   "cell_type": "markdown",
   "metadata": {},
   "source": [
    "---\n",
    "### Load in and visualize the data"
   ]
  },
  {
   "cell_type": "code",
   "execution_count": 1,
   "metadata": {},
   "outputs": [],
   "source": [
    "import numpy as np\n",
    "\n",
    "# read data from text files\n",
    "with open('data/reviews.txt', 'r') as f:\n",
    "    reviews = f.read()\n",
    "with open('data/labels.txt', 'r') as f:\n",
    "    labels = f.read()"
   ]
  },
  {
   "cell_type": "code",
   "execution_count": 2,
   "metadata": {},
   "outputs": [
    {
     "name": "stdout",
     "output_type": "stream",
     "text": [
      "bromwell high is a cartoon comedy . it ran at the same time as some other programs about school life  such as  teachers  . my   years in the teaching profession lead me to believe that bromwell high  s satire is much closer to reality than is  teachers  . the scramble to survive financially  the insightful students who can see right through their pathetic teachers  pomp  the pettiness of the whole situation  all remind me of the schools i knew and their students . when i saw the episode in which a student repeatedly tried to burn down the school  i immediately recalled . . . . . . . . . at . . . . . . . . . . high . a classic line inspector i  m here to sack one of your teachers . student welcome to bromwell high . i expect that many adults of my age think that bromwell high is far fetched . what a pity that it isn  t   \n",
      "story of a man who has unnatural feelings for a pig . starts out with a opening scene that is a terrific example of absurd comedy . a formal orchestra audience is turn\n",
      "\n",
      "positive\n",
      "negative\n",
      "positive\n",
      "neg\n"
     ]
    }
   ],
   "source": [
    "print(reviews[:1000])\n",
    "print()\n",
    "print(labels[:30])"
   ]
  },
  {
   "cell_type": "markdown",
   "metadata": {},
   "source": [
    "## Data pre-processing\n",
    "\n",
    "The first step when building a neural network model is getting your data into the proper form to feed into the network. Since we're using embedding layers, we'll need to encode each word with an integer. We'll also want to clean it up a bit.\n",
    "\n",
    "You can see an example of the reviews data above. Here are the processing steps, we'll want to take:\n",
    ">* We'll want to get rid of periods and extraneous punctuation.\n",
    "* Also, you might notice that the reviews are delimited with newline characters `\\n`. To deal with those, I'm going to split the text into each review using `\\n` as the delimiter. \n",
    "* Then I can combined all the reviews back together into one big string.\n",
    "\n",
    "First, let's remove all punctuation. Then get all the text without the newlines and split it into individual words."
   ]
  },
  {
   "cell_type": "code",
   "execution_count": 51,
   "metadata": {},
   "outputs": [
    {
     "name": "stdout",
     "output_type": "stream",
     "text": [
      "!\"#$%&'()*+,-./:;<=>?@[\\]^_`{|}~\n"
     ]
    }
   ],
   "source": [
    "from string import punctuation\n",
    "\n",
    "print(punctuation)\n",
    "\n",
    "# get rid of punctuation\n",
    "reviews = reviews.lower() # lowercase, standardize\n",
    "all_text = ''.join([c for c in reviews if c not in punctuation])\n"
   ]
  },
  {
   "cell_type": "code",
   "execution_count": 52,
   "metadata": {},
   "outputs": [
    {
     "name": "stdout",
     "output_type": "stream",
     "text": [
      "25001 reviews total\n",
      "all_text length: 33351075\n",
      "6020196 words in all reviews\n"
     ]
    }
   ],
   "source": [
    "# split by new lines and spaces\n",
    "reviews_split = all_text.split('\\n') #get a list with an element for every review\n",
    "print(\"{} reviews total\".format(len(reviews_split)))\n",
    "\n",
    "all_text = ' '.join(reviews_split) #get a string of all words separated by single space\n",
    "print(\"all_text length: {}\".format(len(all_text)))\n",
    "\n",
    "# create a list of words\n",
    "words = all_text.split()\n",
    "print(\"{} words in all reviews\".format(len(words)))"
   ]
  },
  {
   "cell_type": "code",
   "execution_count": 53,
   "metadata": {},
   "outputs": [
    {
     "data": {
      "text/plain": [
       "['bromwell', 'high', 'is', 'a', 'cartoon', 'comedy', 'it', 'ran', 'at', 'the']"
      ]
     },
     "execution_count": 53,
     "metadata": {},
     "output_type": "execute_result"
    }
   ],
   "source": [
    "words[:10]"
   ]
  },
  {
   "cell_type": "markdown",
   "metadata": {},
   "source": [
    "### Encoding the words\n",
    "\n",
    "The embedding lookup requires that we pass in integers to our network. The easiest way to do this is to create dictionaries that map the words in the vocabulary to integers. Then we can convert each of our reviews into integers so they can be passed into the network.\n",
    "\n",
    "> **Exercise:** Now you're going to encode the words with integers. Build a dictionary that maps words to integers. Later we're going to pad our input vectors with zeros, so make sure the integers **start at 1, not 0**.\n",
    "> Also, convert the reviews to integers and store the reviews in a new list called `reviews_ints`. "
   ]
  },
  {
   "cell_type": "code",
   "execution_count": 59,
   "metadata": {},
   "outputs": [
    {
     "name": "stdout",
     "output_type": "stream",
     "text": [
      "number of reviews in reviews_ints:\n",
      "25001\n"
     ]
    }
   ],
   "source": [
    "# feel free to use this import \n",
    "from collections import Counter\n",
    "\n",
    "def create_lookup_tables(words):\n",
    "    \"\"\"\n",
    "    Create lookup tables for vocabulary\n",
    "    :param words: Input list of words\n",
    "    :return: Two dictionaries, vocab_to_int, int_to_vocab\n",
    "    \"\"\"\n",
    "    word_counts = Counter(words)\n",
    "    # sorting the words from most to least frequent in text occurrence\n",
    "    sorted_vocab = sorted(word_counts, key=word_counts.get, reverse=True)\n",
    "    # create int_to_vocab dictionaries\n",
    "    int_to_vocab = {(ii+1): word for ii, word in enumerate(sorted_vocab)}\n",
    "    vocab_to_int = {word: (ii) for ii, word in int_to_vocab.items()}\n",
    "\n",
    "    return vocab_to_int, int_to_vocab\n",
    "\n",
    "## Build a dictionary that maps words to integers\n",
    "vocab_to_int_dict, int_to_vocab_dict = create_lookup_tables(words)\n",
    "# print(vocab_to_int_dict['the'])\n",
    "# print(int_to_vocab_dict[1])\n",
    "\n",
    "## use the dict to tokenize each review in reviews_split\n",
    "## store the tokenized reviews in reviews_ints\n",
    "def convert_to_ints(reviews_list):\n",
    "    '''\n",
    "    given a 2-dim array, convert words to ints\n",
    "    '''\n",
    "    reviews_ints = []\n",
    "    for review in reviews_list:\n",
    "        this_review_ints = []\n",
    "        review_words = review.split(' ')\n",
    "        for review_word in review_words:\n",
    "            if review_word in vocab_to_int_dict.keys(): \n",
    "                this_review_ints.append(vocab_to_int_dict[review_word])\n",
    "        reviews_ints.append(this_review_ints)\n",
    "        \n",
    "    return reviews_ints\n",
    "\n",
    "reviews_ints = convert_to_ints(reviews_split)\n",
    "\n",
    "print(\"number of reviews in reviews_ints:\")\n",
    "print(len(reviews_ints))"
   ]
  },
  {
   "cell_type": "markdown",
   "metadata": {},
   "source": [
    "**Test your code**\n",
    "\n",
    "As a text that you've implemented the dictionary correctly, print out the number of unique words in your vocabulary and the contents of the first, tokenized review."
   ]
  },
  {
   "cell_type": "code",
   "execution_count": 7,
   "metadata": {},
   "outputs": [
    {
     "name": "stdout",
     "output_type": "stream",
     "text": [
      "Unique words:  74072\n",
      "\n",
      "Tokenized review: \n",
      " [[21025, 308, 6, 3, 1050, 207, 8, 2138, 32, 1, 171, 57, 15, 49, 81, 5785, 44, 382, 110, 140, 15, 5194, 60, 154, 9, 1, 4975, 5852, 475, 71, 5, 260, 12, 21025, 308, 13, 1978, 6, 74, 2395, 5, 613, 73, 6, 5194, 1, 24103, 5, 1983, 10166, 1, 5786, 1499, 36, 51, 66, 204, 145, 67, 1199, 5194, 19869, 1, 37442, 4, 1, 221, 883, 31, 2988, 71, 4, 1, 5787, 10, 686, 2, 67, 1499, 54, 10, 216, 1, 383, 9, 62, 3, 1406, 3686, 783, 5, 3483, 180, 1, 382, 10, 1212, 13583, 32, 308, 3, 349, 341, 2913, 10, 143, 127, 5, 7690, 30, 4, 129, 5194, 1406, 2326, 5, 21025, 308, 10, 528, 12, 109, 1448, 4, 60, 543, 102, 12, 21025, 308, 6, 227, 4146, 48, 3, 2211, 12, 8, 215, 23]]\n"
     ]
    }
   ],
   "source": [
    "# stats about vocabulary\n",
    "print('Unique words: ', len((vocab_to_int_dict)))  # should ~ 74000+\n",
    "print()\n",
    "\n",
    "# print tokens in first review\n",
    "print('Tokenized review: \\n', reviews_ints[:1])"
   ]
  },
  {
   "cell_type": "markdown",
   "metadata": {},
   "source": [
    "### Encoding the labels\n",
    "\n",
    "Our labels are \"positive\" or \"negative\". To use these labels in our network, we need to convert them to 0 and 1.\n",
    "\n",
    "> **Exercise:** Convert labels from `positive` and `negative` to 1 and 0, respectively, and place those in a new list, `encoded_labels`."
   ]
  },
  {
   "cell_type": "code",
   "execution_count": 8,
   "metadata": {},
   "outputs": [
    {
     "name": "stdout",
     "output_type": "stream",
     "text": [
      "encoded_labels: \n",
      "[1 0 1 0 1 0 1 0 1 0]\n"
     ]
    }
   ],
   "source": [
    "# 1=positive, 0=negative label conversion\n",
    "encoded_labels = []\n",
    "\n",
    "labels_split = labels.strip().split('\\n')\n",
    "\n",
    "for label in labels_split:\n",
    "    if label == 'positive':\n",
    "        encoded_labels.append(1)\n",
    "    elif label == 'negative':\n",
    "        encoded_labels.append(0)\n",
    "    else:\n",
    "        print(\"bad label: {}\".format(label))\n",
    "\n",
    "encoded_labels = np.asarray(encoded_labels)\n",
    "                      \n",
    "print(\"encoded_labels: \")\n",
    "print(encoded_labels[:10])\n",
    "    "
   ]
  },
  {
   "cell_type": "markdown",
   "metadata": {},
   "source": [
    "### Removing Outliers\n",
    "\n",
    "As an additional pre-processing step, we want to make sure that our reviews are in good shape for standard processing. That is, our network will expect a standard input text size, and so, we'll want to shape our reviews into a specific length. We'll approach this task in two main steps:\n",
    "\n",
    "1. Getting rid of extremely long or short reviews; the outliers\n",
    "2. Padding/truncating the remaining data so that we have reviews of the same length.\n",
    "\n",
    "<img src=\"assets/outliers_padding_ex.png\" width=40%>\n",
    "\n",
    "Before we pad our review text, we should check for reviews of extremely short or long lengths; outliers that may mess with our training."
   ]
  },
  {
   "cell_type": "code",
   "execution_count": 9,
   "metadata": {},
   "outputs": [
    {
     "name": "stdout",
     "output_type": "stream",
     "text": [
      "Zero-length reviews: 1\n",
      "Maximum review length: 2514\n"
     ]
    }
   ],
   "source": [
    "# outlier review stats\n",
    "review_lens = Counter([len(x) for x in reviews_ints])\n",
    "print(\"Zero-length reviews: {}\".format(review_lens[0]))\n",
    "print(\"Maximum review length: {}\".format(max(review_lens)))"
   ]
  },
  {
   "cell_type": "markdown",
   "metadata": {},
   "source": [
    "Okay, a couple issues here. We seem to have one review with zero length. And, the maximum review length is way too many steps for our RNN. We'll have to remove any super short reviews and truncate super long reviews. This removes outliers and should allow our model to train more efficiently.\n",
    "\n",
    "> **Exercise:** First, remove *any* reviews with zero length from the `reviews_ints` list and their corresponding label in `encoded_labels`."
   ]
  },
  {
   "cell_type": "code",
   "execution_count": 10,
   "metadata": {},
   "outputs": [
    {
     "name": "stdout",
     "output_type": "stream",
     "text": [
      "Number of reviews before removing outliers:  25001\n",
      "Number of labels before removing outliers:  25000\n",
      "Number of reviews after removing outliers:  25000\n",
      "Number of labels after removing outliers:  25000\n"
     ]
    }
   ],
   "source": [
    "print('Number of reviews before removing outliers: ', len(reviews_ints))\n",
    "print('Number of labels before removing outliers: ', len(encoded_labels))\n",
    "\n",
    "## remove any reviews/labels with zero length from the reviews_ints list.\n",
    "counter = 0\n",
    "for review in reviews_ints:\n",
    "    if len(review) == 0:\n",
    "#        print(\"Zero length review found at index: {}\".format(counter))\n",
    "        #reviews_ints.remove(review)\n",
    "        #encoded_labels.remove(encoded_label)\n",
    "        del reviews_ints[counter]\n",
    "        if len(encoded_labels) > counter:\n",
    "            del encoded_labels[counter]\n",
    "        break\n",
    "#     else:\n",
    "#         print(\"Review length found at index: {} = {}\".format(counter, len(review)))\n",
    "    counter += 1\n",
    "\n",
    "#reviews_ints = None\n",
    "#encoded_labels = None\n",
    "\n",
    "print('Number of reviews after removing outliers: ', len(reviews_ints))\n",
    "print('Number of labels after removing outliers: ', len(encoded_labels))"
   ]
  },
  {
   "cell_type": "markdown",
   "metadata": {},
   "source": [
    "---\n",
    "## Padding sequences\n",
    "\n",
    "To deal with both short and very long reviews, we'll pad or truncate all our reviews to a specific length. For reviews shorter than some `seq_length`, we'll pad with 0s. For reviews longer than `seq_length`, we can truncate them to the first `seq_length` words. A good `seq_length`, in this case, is 200.\n",
    "\n",
    "> **Exercise:** Define a function that returns an array `features` that contains the padded data, of a standard size, that we'll pass to the network. \n",
    "* The data should come from `review_ints`, since we want to feed integers to the network. \n",
    "* Each row should be `seq_length` elements long. \n",
    "* For reviews shorter than `seq_length` words, **left pad** with 0s. That is, if the review is `['best', 'movie', 'ever']`, `[117, 18, 128]` as integers, the row will look like `[0, 0, 0, ..., 0, 117, 18, 128]`. \n",
    "* For reviews longer than `seq_length`, use only the first `seq_length` words as the feature vector.\n",
    "\n",
    "As a small example, if the `seq_length=10` and an input review is: \n",
    "```\n",
    "[117, 18, 128]\n",
    "```\n",
    "The resultant, padded sequence should be: \n",
    "\n",
    "```\n",
    "[0, 0, 0, 0, 0, 0, 0, 117, 18, 128]\n",
    "```\n",
    "\n",
    "**Your final `features` array should be a 2D array, with as many rows as there are reviews, and as many columns as the specified `seq_length`.**\n",
    "\n",
    "This isn't trivial and there are a bunch of ways to do this. But, if you're going to be building your own deep learning networks, you're going to have to get used to preparing your data."
   ]
  },
  {
   "cell_type": "code",
   "execution_count": 11,
   "metadata": {},
   "outputs": [],
   "source": [
    "def pad_features(reviews_ints, seq_length):\n",
    "    ''' Return features of review_ints, where each review is padded with 0's \n",
    "        or truncated to the input seq_length.\n",
    "    '''\n",
    "    features = np.zeros((len(reviews_ints), seq_length), dtype=np.int64)\n",
    "    \n",
    "    row_counter = 0\n",
    "    for this_review_ints in reviews_ints:\n",
    "        if len(this_review_ints) > seq_length:\n",
    "            #replace whole seq_length length array with beginning of review.\n",
    "            this_review_ints = this_review_ints[:seq_length]\n",
    "            features[row_counter] = this_review_ints\n",
    "        elif len(this_review_ints) < seq_length:\n",
    "            #replace end of array with ints, leaving beginning zeros\n",
    "            replacement_indices = np.arange((seq_length-len(this_review_ints)), seq_length)\n",
    "            np.put(features[row_counter], replacement_indices, this_review_ints)    \n",
    "        row_counter += 1\n",
    "    \n",
    "    return features"
   ]
  },
  {
   "cell_type": "code",
   "execution_count": 12,
   "metadata": {},
   "outputs": [
    {
     "name": "stdout",
     "output_type": "stream",
     "text": [
      "[[    0     0     0     0     0     0     0     0     0     0     0     0]\n",
      " [    0     0     0     0     0     0     0     0     0     0     0     0]\n",
      " [22382    42 46418    15   706 17139  3389    47    77    35  1819    16]\n",
      " [ 4505   505    15     3  3342   162  8312  1652     6  4819    56    17]\n",
      " [    0     0     0     0     0     0     0     0     0     0     0     0]\n",
      " [    0     0     0     0     0     0     0     0     0     0     0     0]\n",
      " [    0     0     0     0     0     0     0     0     0     0     0     0]\n",
      " [    0     0     0     0     0     0     0     0     0     0     0     0]\n",
      " [    0     0     0     0     0     0     0     0     0     0     0     0]\n",
      " [   54    10    14   116    60   798   552    71   364     5     1   730]\n",
      " [    0     0     0     0     0     0     0     0     0     0     0     0]\n",
      " [    0     0     0     0     0     0     0     0     0     0     0     0]\n",
      " [    0     0     0     0     0     0     0     0     0     0     0     0]\n",
      " [    1   330   578    34     3   162   748  2731     9   325    73   154]\n",
      " [    9    11 10171  5305  1946   689   444    22   280   673  4608  2069]\n",
      " [    0     0     0     0     0     0     0     0     0     0     0     0]\n",
      " [    1   307 10399  2069  1565  6202  6528  3288 17946 10628  8179   865]\n",
      " [    0     0     0     0     0     0     0     0     0     0     0     0]\n",
      " [   21   122  2069  1565   515  8181    88     6  1325  1182   309     9]\n",
      " [    1    20     6    76    40     6    58    81    95     5   133     8]\n",
      " [   54    10    84   329 26230 46427    63    10    14   614     9    34]\n",
      " [   11    20     6    30  1436 32317  3769   690 15100     6  1231   407]\n",
      " [    0     0     0     0     0     0     0     0     0     0     0     0]\n",
      " [    0     0     0     0     0     0     0     0     0     0     0     0]\n",
      " [   40    26   109 17952  1422     9     1   327     4   125    62    28]\n",
      " [    0     0     0     0     0     0     0     0     0     0     0     0]\n",
      " [   10   499     1   307 10399    55    74     8    13    30     4     1]\n",
      " [    0     0     0     0     0     0     0     0     0     0     0     0]\n",
      " [    0     0     0     0     0     0     0     0     0     0     0     0]\n",
      " [    0     0     0     0     0     0     0     0     0     0     0     0]\n",
      " [    0     0     0     0     0     0     0     0     0     0     0     0]\n",
      " [    0     0     0     0     0     0     0     0     0     0     0     0]\n",
      " [    0     0     0     0     1   307 10399  1410    60   678    17  2069]\n",
      " [    0     0     0     0     0     0     0     0     0     0     0     0]\n",
      " [ 1043  1834 11409  4608    58    30  2069  1565 37459     2  1362     9]\n",
      " [    0     0     0     0     0     0     0     0     0     0     0     0]\n",
      " [    0     0     0     0     0     0     0     0     0     0     0     0]\n",
      " [    0     0     0     0     0     0     0     0     0     0     0     0]\n",
      " [    0     0     0     0     0     0     0     0     0     0     0     0]\n",
      " [    0     0     0     0     0     0     0     0     0     0     0     0]\n",
      " [   11   307 10399     6   128    73    78    26  1202   651     8    47]\n",
      " [    0     0     0     0     0     0     0     0     0     0     0     0]\n",
      " [   54     8   262     5    99    10    51    29   183 11736     2    10]\n",
      " [ 8060  3850     9     3  6532 46442     7     7  4186  5053     7     7]\n",
      " [    0     0     0     0     0     0     0     0     0     0     0     0]\n",
      " [    0     0     0     0     0     0     0     0     0     0     0     0]\n",
      " [    0     0     0     0     0     0     0     0     0     0     0     0]\n",
      " [    0     0     0     0     0     0     0     0     0     0     0     0]\n",
      " [    0     0     0     0     0     0     0     0     0     0     0     0]\n",
      " [    0     0     0     0     0     0     0     0     0     0     0     0]]\n"
     ]
    }
   ],
   "source": [
    "# Test your implementation!\n",
    "\n",
    "seq_length = 200\n",
    "\n",
    "features = pad_features(reviews_ints, seq_length=seq_length)\n",
    "\n",
    "## test statements - do not change - ##\n",
    "assert len(features)==len(reviews_ints), \"Your features should have as many rows as reviews.\"\n",
    "assert len(features[0])==seq_length, \"Each feature row should contain seq_length values.\"\n",
    "\n",
    "# print first 10 values of the first 30 batches \n",
    "print(features[:50,:12])\n",
    "#print(features[:10])"
   ]
  },
  {
   "cell_type": "markdown",
   "metadata": {},
   "source": [
    "## Training, Validation, Test\n",
    "\n",
    "With our data in nice shape, we'll split it into training, validation, and test sets.\n",
    "\n",
    "> **Exercise:** Create the training, validation, and test sets. \n",
    "* You'll need to create sets for the features and the labels, `train_x` and `train_y`, for example. \n",
    "* Define a split fraction, `split_frac` as the fraction of data to **keep** in the training set. Usually this is set to 0.8 or 0.9. \n",
    "* Whatever data is left will be split in half to create the validation and *testing* data."
   ]
  },
  {
   "cell_type": "code",
   "execution_count": 13,
   "metadata": {},
   "outputs": [
    {
     "name": "stdout",
     "output_type": "stream",
     "text": [
      "train_x.shape: (20000, 200)\n",
      "train_y: (20000,)\n",
      "val_x.shape: (2500, 200)\n",
      "val_y: (2500,)\n",
      "test_x.shape: (2500, 200)\n",
      "test_y: (2500,)\n"
     ]
    }
   ],
   "source": [
    "split_frac = 0.8\n",
    "\n",
    "## split data into training, validation, and test data (features and labels, x and y)\n",
    "train_split_index = int(len(features)*split_frac)\n",
    "valid_split_frac = split_frac + (1-split_frac)/2\n",
    "valid_split_index = int(len(features)*valid_split_frac)\n",
    "\n",
    "train_x = features[:train_split_index]\n",
    "train_y = encoded_labels[:train_split_index]\n",
    "\n",
    "val_x = features[train_split_index : valid_split_index]\n",
    "val_y = encoded_labels[train_split_index : valid_split_index]\n",
    "\n",
    "test_x = features[valid_split_index:]\n",
    "test_y = encoded_labels[valid_split_index:]\n",
    "\n",
    "## print out the shapes of your resultant feature data\n",
    "print(\"train_x.shape: {}\".format(train_x.shape))\n",
    "print(\"train_y: {}\".format(train_y.shape))\n",
    "\n",
    "print(\"val_x.shape: {}\".format(val_x.shape))\n",
    "print(\"val_y: {}\".format(val_y.shape))\n",
    "\n",
    "print(\"test_x.shape: {}\".format(test_x.shape))\n",
    "print(\"test_y: {}\".format(test_y.shape))\n",
    "\n",
    "# print(train_x[0])\n",
    "# print(valid_x[0])\n",
    "# print(test_x[0])"
   ]
  },
  {
   "cell_type": "markdown",
   "metadata": {},
   "source": [
    "**Check your work**\n",
    "\n",
    "With train, validation, and test fractions equal to 0.8, 0.1, 0.1, respectively, the final, feature data shapes should look like:\n",
    "```\n",
    "                    Feature Shapes:\n",
    "Train set: \t\t (20000, 200) \n",
    "Validation set: \t(2500, 200) \n",
    "Test set: \t\t  (2500, 200)\n",
    "```"
   ]
  },
  {
   "cell_type": "markdown",
   "metadata": {},
   "source": [
    "---\n",
    "## DataLoaders and Batching\n",
    "\n",
    "After creating training, test, and validation data, we can create DataLoaders for this data by following two steps:\n",
    "1. Create a known format for accessing our data, using [TensorDataset](https://pytorch.org/docs/stable/data.html#) which takes in an input set of data and a target set of data with the same first dimension, and creates a dataset.\n",
    "2. Create DataLoaders and batch our training, validation, and test Tensor datasets.\n",
    "\n",
    "```\n",
    "train_data = TensorDataset(torch.from_numpy(train_x), torch.from_numpy(train_y))\n",
    "train_loader = DataLoader(train_data, batch_size=batch_size)\n",
    "```\n",
    "\n",
    "This is an alternative to creating a generator function for batching our data into full batches."
   ]
  },
  {
   "cell_type": "code",
   "execution_count": 14,
   "metadata": {},
   "outputs": [],
   "source": [
    "import torch\n",
    "from torch.utils.data import TensorDataset, DataLoader\n",
    "\n",
    "# create Tensor datasets\n",
    "train_data = TensorDataset(torch.from_numpy(train_x), torch.from_numpy(train_y))\n",
    "valid_data = TensorDataset(torch.from_numpy(val_x), torch.from_numpy(val_y))\n",
    "test_data = TensorDataset(torch.from_numpy(test_x), torch.from_numpy(test_y))\n",
    "\n",
    "# dataloaders\n",
    "batch_size = 50\n",
    "\n",
    "# make sure to SHUFFLE your data\n",
    "train_loader = DataLoader(train_data, shuffle=True, batch_size=batch_size)\n",
    "valid_loader = DataLoader(valid_data, shuffle=True, batch_size=batch_size)\n",
    "test_loader = DataLoader(test_data, shuffle=True, batch_size=batch_size)"
   ]
  },
  {
   "cell_type": "code",
   "execution_count": 15,
   "metadata": {},
   "outputs": [
    {
     "name": "stdout",
     "output_type": "stream",
     "text": [
      "Sample input size:  torch.Size([50, 200])\n",
      "Sample input: \n",
      " tensor([[   10,   329,    49,  ...,    10,    68,  1032],\n",
      "        [    0,     0,     0,  ...,  1738,   160,  3754],\n",
      "        [    0,     0,     0,  ...,     3,    45,     4],\n",
      "        ...,\n",
      "        [    9,     1,  3261,  ...,  2121, 21703,    13],\n",
      "        [    0,     0,     0,  ...,   115,    12,    20],\n",
      "        [    0,     0,     0,  ...,    28,   124,   108]])\n",
      "\n",
      "Sample label size:  torch.Size([50])\n",
      "Sample label: \n",
      " tensor([0, 1, 1, 0, 0, 1, 0, 0, 0, 1, 1, 0, 1, 1, 0, 1, 0, 0, 1, 0, 1, 0, 0, 1,\n",
      "        0, 0, 1, 0, 0, 1, 0, 1, 1, 1, 0, 0, 0, 1, 0, 1, 0, 1, 1, 0, 0, 0, 0, 0,\n",
      "        1, 0])\n"
     ]
    }
   ],
   "source": [
    "# obtain one batch of training data\n",
    "dataiter = iter(train_loader)\n",
    "sample_x, sample_y = dataiter.next()\n",
    "\n",
    "print('Sample input size: ', sample_x.size()) # batch_size, seq_length\n",
    "print('Sample input: \\n', sample_x)\n",
    "print()\n",
    "print('Sample label size: ', sample_y.size()) # batch_size\n",
    "print('Sample label: \\n', sample_y)"
   ]
  },
  {
   "cell_type": "markdown",
   "metadata": {},
   "source": [
    "---\n",
    "# Sentiment Network with PyTorch\n",
    "\n",
    "Below is where you'll define the network.\n",
    "\n",
    "<img src=\"assets/network_diagram.png\" width=40%>\n",
    "\n",
    "The layers are as follows:\n",
    "1. An [embedding layer](https://pytorch.org/docs/stable/nn.html#embedding) that converts our word tokens (integers) into embeddings of a specific size.\n",
    "2. An [LSTM layer](https://pytorch.org/docs/stable/nn.html#lstm) defined by a hidden_state size and number of layers\n",
    "3. A fully-connected output layer that maps the LSTM layer outputs to a desired output_size\n",
    "4. A sigmoid activation layer which turns all outputs into a value 0-1; return **only the last sigmoid output** as the output of this network.\n",
    "\n",
    "### The Embedding Layer\n",
    "\n",
    "We need to add an [embedding layer](https://pytorch.org/docs/stable/nn.html#embedding) because there are 74000+ words in our vocabulary. It is massively inefficient to one-hot encode that many classes. So, instead of one-hot encoding, we can have an embedding layer and use that layer as a lookup table. You could train an embedding layer using Word2Vec, then load it here. But, it's fine to just make a new layer, using it for only dimensionality reduction, and let the network learn the weights.\n",
    "\n",
    "\n",
    "### The LSTM Layer(s)\n",
    "\n",
    "We'll create an [LSTM](https://pytorch.org/docs/stable/nn.html#lstm) to use in our recurrent network, which takes in an input_size, a hidden_dim, a number of layers, a dropout probability (for dropout between multiple layers), and a batch_first parameter.\n",
    "\n",
    "Most of the time, you're network will have better performance with more layers; between 2-3. Adding more layers allows the network to learn really complex relationships. \n",
    "\n",
    "> **Exercise:** Complete the `__init__`, `forward`, and `init_hidden` functions for the SentimentRNN model class.\n",
    "\n",
    "Note: `init_hidden` should initialize the hidden and cell state of an lstm layer to all zeros, and move those state to GPU, if available."
   ]
  },
  {
   "cell_type": "code",
   "execution_count": 16,
   "metadata": {},
   "outputs": [
    {
     "name": "stdout",
     "output_type": "stream",
     "text": [
      "Training on GPU.\n"
     ]
    }
   ],
   "source": [
    "# First checking if GPU is available\n",
    "train_on_gpu=torch.cuda.is_available()\n",
    "\n",
    "if(train_on_gpu):\n",
    "    print('Training on GPU.')\n",
    "else:\n",
    "    print('No GPU available, training on CPU.')"
   ]
  },
  {
   "cell_type": "code",
   "execution_count": 17,
   "metadata": {},
   "outputs": [],
   "source": [
    "import torch.nn as nn\n",
    "\n",
    "class SentimentRNN(nn.Module):\n",
    "    \"\"\"\n",
    "    The RNN model that will be used to perform Sentiment analysis.\n",
    "    \"\"\"\n",
    "\n",
    "    def __init__(self, vocab_size, output_size, embedding_dim, hidden_dim, n_layers, drop_prob=0.5):\n",
    "        \"\"\"\n",
    "        Initialize the model by setting up the layers.\n",
    "        \"\"\"\n",
    "        super(SentimentRNN, self).__init__()\n",
    "\n",
    "        self.output_size = output_size\n",
    "        self.n_layers = n_layers\n",
    "        self.hidden_dim = hidden_dim\n",
    "        \n",
    "        # define all layers\n",
    "        #The Embedding Layer\n",
    "        self.embed = nn.Embedding(vocab_size, embedding_dim)\n",
    "        \n",
    "        self.lstm = nn.LSTM(embedding_dim, hidden_dim, n_layers, dropout=drop_prob, batch_first=True)\n",
    "        \n",
    "        #self.fc_out = nn.Linear(self.hidden_dim*200, 1)  #200 is seq length\n",
    "        self.fc_out = nn.Linear(self.hidden_dim, output_size)  #200 is seq length\n",
    "        self.sig = nn.Sigmoid()\n",
    "        \n",
    "        self.drop = nn.Dropout(drop_prob)\n",
    "        \n",
    "    def forward(self, x, hidden):\n",
    "        \"\"\"\n",
    "        Perform a forward pass of our model on some input and hidden state.\n",
    "        \"\"\"\n",
    "        batch_size = x.size(0)\n",
    "        \n",
    "        x = self.embed(x)\n",
    "        #x = self.embed_out(x)\n",
    "        \n",
    "        r_out, hidden = self.lstm(x, hidden)\n",
    "        \n",
    "        # shape output to be (batch_size*seq_length, hidden_dim)\n",
    "        out = r_out.contiguous().view(-1, self.hidden_dim)  #200 is seq length  \n",
    "        \n",
    "        # return last sigmoid output and hidden state\n",
    "        out = self.drop(out)\n",
    "        out = self.fc_out(out)\n",
    "        out = self.sig(out)      \n",
    "        out = out.view(batch_size, -1)  # reshape to be batch_size first\n",
    "        out = out[:, -1] ##### get last batch of labels\n",
    "            \n",
    "        return out, hidden\n",
    "    \n",
    "    def init_hidden(self, batch_size):\n",
    "        ''' Initializes hidden state '''\n",
    "        # Create two new tensors with sizes n_layers x batch_size x hidden_dim,\n",
    "        # initialized to zero, for hidden state and cell state of LSTM\n",
    "        weight = next(self.parameters()).data\n",
    "        \n",
    "        if (train_on_gpu):\n",
    "            hidden = (weight.new(self.n_layers, batch_size, self.hidden_dim).zero_().cuda(),\n",
    "                      weight.new(self.n_layers, batch_size, self.hidden_dim).zero_().cuda())\n",
    "        else:\n",
    "            hidden = (weight.new(self.n_layers, batch_size, self.hidden_dim).zero_(),\n",
    "                      weight.new(self.n_layers, batch_size, self.hidden_dim).zero_())\n",
    "        \n",
    "        return hidden"
   ]
  },
  {
   "cell_type": "markdown",
   "metadata": {},
   "source": [
    "## Instantiate the network\n",
    "\n",
    "Here, we'll instantiate the network. First up, defining the hyperparameters.\n",
    "\n",
    "* `vocab_size`: Size of our vocabulary or the range of values for our input, word tokens.\n",
    "* `output_size`: Size of our desired output; the number of class scores we want to output (pos/neg).\n",
    "* `embedding_dim`: Number of columns in the embedding lookup table; size of our embeddings.\n",
    "* `hidden_dim`: Number of units in the hidden layers of our LSTM cells. Usually larger is better performance wise. Common values are 128, 256, 512, etc.\n",
    "* `n_layers`: Number of LSTM layers in the network. Typically between 1-3\n",
    "\n",
    "> **Exercise:** Define the model  hyperparameters.\n"
   ]
  },
  {
   "cell_type": "code",
   "execution_count": 23,
   "metadata": {},
   "outputs": [
    {
     "name": "stdout",
     "output_type": "stream",
     "text": [
      "SentimentRNN(\n",
      "  (embed): Embedding(74072, 350)\n",
      "  (lstm): LSTM(350, 256, num_layers=3, batch_first=True, dropout=0.5)\n",
      "  (fc_out): Linear(in_features=256, out_features=1, bias=True)\n",
      "  (sig): Sigmoid()\n",
      "  (drop): Dropout(p=0.5)\n",
      ")\n"
     ]
    }
   ],
   "source": [
    "# Instantiate the model w/ hyperparams\n",
    "vocab_size = len((vocab_to_int_dict))\n",
    "output_size = 1\n",
    "embedding_dim = 350\n",
    "hidden_dim = 256\n",
    "n_layers = 3\n",
    "\n",
    "net = SentimentRNN(vocab_size, output_size, embedding_dim, hidden_dim, n_layers)\n",
    "\n",
    "print(net)"
   ]
  },
  {
   "cell_type": "markdown",
   "metadata": {},
   "source": [
    "---\n",
    "## Training\n",
    "\n",
    "Below is the typical training code. If you want to do this yourself, feel free to delete all this code and implement it yourself. You can also add code to save a model by name.\n",
    "\n",
    ">We'll also be using a new kind of cross entropy loss, which is designed to work with a single Sigmoid output. [BCELoss](https://pytorch.org/docs/stable/nn.html#bceloss), or **Binary Cross Entropy Loss**, applies cross entropy loss to a single value between 0 and 1.\n",
    "\n",
    "We also have some data and training hyparameters:\n",
    "\n",
    "* `lr`: Learning rate for our optimizer.\n",
    "* `epochs`: Number of times to iterate through the training dataset.\n",
    "* `clip`: The maximum gradient value to clip at (to prevent exploding gradients)."
   ]
  },
  {
   "cell_type": "code",
   "execution_count": 24,
   "metadata": {},
   "outputs": [],
   "source": [
    "# loss and optimization functions\n",
    "lr=0.001\n",
    "\n",
    "criterion = nn.BCELoss()\n",
    "optimizer = torch.optim.Adam(net.parameters(), lr=lr)\n"
   ]
  },
  {
   "cell_type": "code",
   "execution_count": 25,
   "metadata": {},
   "outputs": [
    {
     "name": "stdout",
     "output_type": "stream",
     "text": [
      "Epoch: 1/4... Step: 100... Loss: 0.642161... Val Loss: 0.644621\n",
      "Epoch: 1/4... Step: 200... Loss: 0.676787... Val Loss: 0.758379\n",
      "Epoch: 1/4... Step: 300... Loss: 0.690638... Val Loss: 0.796227\n",
      "Epoch: 1/4... Step: 400... Loss: 0.679672... Val Loss: 0.763233\n",
      "Epoch: 2/4... Step: 500... Loss: 0.696036... Val Loss: 0.693501\n",
      "Epoch: 2/4... Step: 600... Loss: 0.673910... Val Loss: 0.638476\n",
      "Epoch: 2/4... Step: 700... Loss: 0.478105... Val Loss: 0.595141\n",
      "Epoch: 2/4... Step: 800... Loss: 0.486245... Val Loss: 0.492825\n",
      "Epoch: 3/4... Step: 900... Loss: 0.345836... Val Loss: 0.510441\n",
      "Epoch: 3/4... Step: 1000... Loss: 0.547915... Val Loss: 0.486132\n",
      "Epoch: 3/4... Step: 1100... Loss: 0.286541... Val Loss: 0.456971\n",
      "Epoch: 3/4... Step: 1200... Loss: 0.190345... Val Loss: 0.428146\n",
      "Epoch: 4/4... Step: 1300... Loss: 0.195519... Val Loss: 0.419700\n",
      "Epoch: 4/4... Step: 1400... Loss: 0.302920... Val Loss: 0.428639\n",
      "Epoch: 4/4... Step: 1500... Loss: 0.223418... Val Loss: 0.416196\n",
      "Epoch: 4/4... Step: 1600... Loss: 0.321726... Val Loss: 0.434570\n"
     ]
    }
   ],
   "source": [
    "# training params\n",
    "\n",
    "epochs = 4 # 3-4 is approx where I noticed the validation loss stop decreasing\n",
    "\n",
    "counter = 0\n",
    "print_every = 100\n",
    "clip=5 # gradient clipping\n",
    "\n",
    "# move model to GPU, if available\n",
    "if(train_on_gpu):\n",
    "    net.cuda()\n",
    "\n",
    "net.train()\n",
    "# train for some number of epochs\n",
    "for e in range(epochs):\n",
    "    # initialize hidden state\n",
    "    h = net.init_hidden(batch_size)\n",
    "\n",
    "    # batch loop\n",
    "    for inputs, labels in train_loader:\n",
    "        counter += 1\n",
    "\n",
    "        if(train_on_gpu):\n",
    "            inputs, labels = inputs.cuda(), labels.cuda()\n",
    "\n",
    "        # Creating new variables for the hidden state, otherwise\n",
    "        # we'd backprop through the entire training history\n",
    "        h = tuple([each.data for each in h])\n",
    "\n",
    "        # zero accumulated gradients\n",
    "        net.zero_grad()\n",
    "\n",
    "        # get the output from the model\n",
    "        output, h = net(inputs, h)\n",
    "        \n",
    "        # calculate the loss and perform backprop\n",
    "        loss = criterion(output.squeeze(), labels.float())\n",
    "        loss.backward()\n",
    "        # `clip_grad_norm` helps prevent the exploding gradient problem in RNNs / LSTMs.\n",
    "        nn.utils.clip_grad_norm_(net.parameters(), clip)\n",
    "        optimizer.step()\n",
    "\n",
    "        # loss stats\n",
    "        if counter % print_every == 0:\n",
    "            # Get validation loss\n",
    "            val_h = net.init_hidden(batch_size)\n",
    "            val_losses = []\n",
    "            net.eval()\n",
    "            for inputs, labels in valid_loader:\n",
    "\n",
    "                # Creating new variables for the hidden state, otherwise\n",
    "                # we'd backprop through the entire training history\n",
    "                val_h = tuple([each.data for each in val_h])\n",
    "\n",
    "                if(train_on_gpu):\n",
    "                    inputs, labels = inputs.cuda(), labels.cuda()\n",
    "\n",
    "                output, val_h = net(inputs, val_h)\n",
    "                val_loss = criterion(output.squeeze(), labels.float())\n",
    "\n",
    "                val_losses.append(val_loss.item())\n",
    "\n",
    "            net.train()\n",
    "            print(\"Epoch: {}/{}...\".format(e+1, epochs),\n",
    "                  \"Step: {}...\".format(counter),\n",
    "                  \"Loss: {:.6f}...\".format(loss.item()),\n",
    "                  \"Val Loss: {:.6f}\".format(np.mean(val_losses)))"
   ]
  },
  {
   "cell_type": "code",
   "execution_count": 26,
   "metadata": {},
   "outputs": [],
   "source": [
    "#Save the model\n",
    "torch.save(net.state_dict(), \"sentiment_rnn_model.pt\")\n"
   ]
  },
  {
   "cell_type": "markdown",
   "metadata": {},
   "source": [
    "---\n",
    "## Testing\n",
    "\n",
    "There are a few ways to test your network.\n",
    "\n",
    "* **Test data performance:** First, we'll see how our trained model performs on all of our defined test_data, above. We'll calculate the average loss and accuracy over the test data.\n",
    "\n",
    "* **Inference on user-generated data:** Second, we'll see if we can input just one example review at a time (without a label), and see what the trained model predicts. Looking at new, user input data like this, and predicting an output label, is called **inference**."
   ]
  },
  {
   "cell_type": "code",
   "execution_count": 27,
   "metadata": {},
   "outputs": [
    {
     "name": "stdout",
     "output_type": "stream",
     "text": [
      "tensor([0.0192, 0.9810, 0.0254, 0.1150, 0.9825, 0.8391, 0.0243, 0.9806, 0.7436,\n",
      "        0.9602, 0.0413, 0.0197, 0.9686, 0.6163, 0.5175, 0.2300, 0.7885, 0.0222,\n",
      "        0.9783, 0.0649, 0.9778, 0.9549, 0.9804, 0.0977, 0.9803, 0.9753, 0.9599,\n",
      "        0.9792, 0.1119, 0.1136, 0.0596, 0.9547, 0.4037, 0.9808, 0.9767, 0.0674,\n",
      "        0.9703, 0.3140, 0.8970, 0.0829, 0.7580, 0.0276, 0.9544, 0.9784, 0.3167,\n",
      "        0.0353, 0.6987, 0.9810, 0.9754, 0.1635], device='cuda:0',\n",
      "       grad_fn=<SelectBackward>)\n",
      "tensor([0.9810, 0.7193, 0.3671, 0.9760, 0.1673, 0.9699, 0.9777, 0.4151, 0.2200,\n",
      "        0.9162, 0.0232, 0.0272, 0.0809, 0.8683, 0.9539, 0.6616, 0.9705, 0.9822,\n",
      "        0.0203, 0.0848, 0.0771, 0.1431, 0.9811, 0.0258, 0.0200, 0.3686, 0.0222,\n",
      "        0.9769, 0.0215, 0.9794, 0.9782, 0.0267, 0.9814, 0.0217, 0.0280, 0.0813,\n",
      "        0.9640, 0.9805, 0.9787, 0.6643, 0.1265, 0.1118, 0.9755, 0.9772, 0.9698,\n",
      "        0.8676, 0.4058, 0.2215, 0.9795, 0.0341], device='cuda:0',\n",
      "       grad_fn=<SelectBackward>)\n",
      "tensor([0.0454, 0.9812, 0.9069, 0.0237, 0.9704, 0.0196, 0.4975, 0.0886, 0.9661,\n",
      "        0.4701, 0.0985, 0.0391, 0.9286, 0.9629, 0.2458, 0.9413, 0.0292, 0.6354,\n",
      "        0.8524, 0.9771, 0.0194, 0.6091, 0.9804, 0.2814, 0.0518, 0.9738, 0.0531,\n",
      "        0.0596, 0.9520, 0.0200, 0.7079, 0.0832, 0.0330, 0.9779, 0.6442, 0.7911,\n",
      "        0.7593, 0.2300, 0.9784, 0.1761, 0.1335, 0.9713, 0.9740, 0.0218, 0.9659,\n",
      "        0.4808, 0.9786, 0.1184, 0.8919, 0.4481], device='cuda:0',\n",
      "       grad_fn=<SelectBackward>)\n",
      "tensor([0.7376, 0.0473, 0.0207, 0.9516, 0.7698, 0.9763, 0.0195, 0.0191, 0.6631,\n",
      "        0.5419, 0.9825, 0.7969, 0.0263, 0.7030, 0.9698, 0.9817, 0.0226, 0.0308,\n",
      "        0.4593, 0.0200, 0.6417, 0.6158, 0.0201, 0.9702, 0.7512, 0.9807, 0.1408,\n",
      "        0.9717, 0.9542, 0.3180, 0.9756, 0.9169, 0.3503, 0.8893, 0.1310, 0.2104,\n",
      "        0.0238, 0.9783, 0.2302, 0.8899, 0.9765, 0.9641, 0.9805, 0.0616, 0.0540,\n",
      "        0.1487, 0.0855, 0.9010, 0.0339, 0.9223], device='cuda:0',\n",
      "       grad_fn=<SelectBackward>)\n",
      "tensor([0.9719, 0.0453, 0.0342, 0.9814, 0.0216, 0.9791, 0.9826, 0.9760, 0.0828,\n",
      "        0.5281, 0.9757, 0.9542, 0.0344, 0.9446, 0.0803, 0.8091, 0.2876, 0.9601,\n",
      "        0.9823, 0.0234, 0.0677, 0.0195, 0.0762, 0.0237, 0.9526, 0.9783, 0.9025,\n",
      "        0.9321, 0.9784, 0.8169, 0.9296, 0.0199, 0.9669, 0.0185, 0.1947, 0.6755,\n",
      "        0.7896, 0.6698, 0.0210, 0.0212, 0.9219, 0.2247, 0.8264, 0.5469, 0.1364,\n",
      "        0.9416, 0.9629, 0.9827, 0.0216, 0.8104], device='cuda:0',\n",
      "       grad_fn=<SelectBackward>)\n",
      "tensor([0.6186, 0.5589, 0.9633, 0.0236, 0.9784, 0.9113, 0.9799, 0.2478, 0.6193,\n",
      "        0.0531, 0.9605, 0.2200, 0.0200, 0.8695, 0.9755, 0.9795, 0.0412, 0.1757,\n",
      "        0.0636, 0.9752, 0.9357, 0.9090, 0.0224, 0.7403, 0.9768, 0.7040, 0.1537,\n",
      "        0.6513, 0.3399, 0.9776, 0.9820, 0.4192, 0.9513, 0.0204, 0.9757, 0.0192,\n",
      "        0.9633, 0.9772, 0.9771, 0.9822, 0.0278, 0.9812, 0.0235, 0.9448, 0.0315,\n",
      "        0.1835, 0.0309, 0.9789, 0.9503, 0.6274], device='cuda:0',\n",
      "       grad_fn=<SelectBackward>)\n",
      "tensor([0.0356, 0.0360, 0.9568, 0.9159, 0.0358, 0.9667, 0.0263, 0.9773, 0.9779,\n",
      "        0.0247, 0.9807, 0.9134, 0.9742, 0.0242, 0.4468, 0.0732, 0.1614, 0.9783,\n",
      "        0.1064, 0.9051, 0.4165, 0.0220, 0.0683, 0.9419, 0.1561, 0.0187, 0.0480,\n",
      "        0.9811, 0.9402, 0.9814, 0.9816, 0.9749, 0.9731, 0.9637, 0.2654, 0.9655,\n",
      "        0.0270, 0.9590, 0.9820, 0.9764, 0.0694, 0.6909, 0.1196, 0.0234, 0.3487,\n",
      "        0.0360, 0.7682, 0.9814, 0.9707, 0.5301], device='cuda:0',\n",
      "       grad_fn=<SelectBackward>)\n",
      "tensor([0.9541, 0.0214, 0.9720, 0.9775, 0.4495, 0.6251, 0.0328, 0.9749, 0.0247,\n",
      "        0.3337, 0.9796, 0.8068, 0.0414, 0.0374, 0.0203, 0.9812, 0.0336, 0.4994,\n",
      "        0.6834, 0.9783, 0.5482, 0.9619, 0.1439, 0.9791, 0.3693, 0.0253, 0.9816,\n",
      "        0.9600, 0.0414, 0.9755, 0.9407, 0.9782, 0.0192, 0.0498, 0.0191, 0.9709,\n",
      "        0.5192, 0.7601, 0.6934, 0.9711, 0.0519, 0.6178, 0.9496, 0.0203, 0.9487,\n",
      "        0.8444, 0.0499, 0.8381, 0.9001, 0.0216], device='cuda:0',\n",
      "       grad_fn=<SelectBackward>)\n",
      "tensor([0.3696, 0.9578, 0.0691, 0.0353, 0.0214, 0.7964, 0.8539, 0.9826, 0.0308,\n",
      "        0.4706, 0.9778, 0.7487, 0.9734, 0.9762, 0.9128, 0.3756, 0.9778, 0.7750,\n",
      "        0.8288, 0.9810, 0.0555, 0.9699, 0.6154, 0.8550, 0.0782, 0.5507, 0.8117,\n",
      "        0.9528, 0.9704, 0.9644, 0.9255, 0.6717, 0.3779, 0.9595, 0.0949, 0.9812,\n",
      "        0.9797, 0.8038, 0.9473, 0.0411, 0.9743, 0.0330, 0.0327, 0.9810, 0.9074,\n",
      "        0.0439, 0.0452, 0.8593, 0.5603, 0.0424], device='cuda:0',\n",
      "       grad_fn=<SelectBackward>)\n",
      "tensor([0.0560, 0.0547, 0.0246, 0.9822, 0.0468, 0.0577, 0.9821, 0.4614, 0.1813,\n",
      "        0.5932, 0.0313, 0.3010, 0.0194, 0.0231, 0.0214, 0.9791, 0.9328, 0.9462,\n",
      "        0.6085, 0.0236, 0.0799, 0.0237, 0.0188, 0.9538, 0.3779, 0.9593, 0.9712,\n",
      "        0.5935, 0.1749, 0.9817, 0.0220, 0.8922, 0.8048, 0.8169, 0.0299, 0.9815,\n",
      "        0.9774, 0.0220, 0.0517, 0.9813, 0.0798, 0.8931, 0.9105, 0.1609, 0.6193,\n",
      "        0.9812, 0.7372, 0.9812, 0.9121, 0.3600], device='cuda:0',\n",
      "       grad_fn=<SelectBackward>)\n",
      "Test loss: 0.451\n",
      "Test accuracy: 0.822\n"
     ]
    }
   ],
   "source": [
    "# Get test data loss and accuracy\n",
    "\n",
    "net = SentimentRNN(vocab_size, output_size, embedding_dim, hidden_dim, n_layers)\n",
    "net.load_state_dict(torch.load(\"sentiment_rnn_model.pt\"))\n",
    "\n",
    "if(train_on_gpu):\n",
    "    net.cuda()\n",
    "\n",
    "test_losses = [] # track loss\n",
    "num_correct = 0\n",
    "batch_counter = 0\n",
    "batch_quit = 10\n",
    "total_preditions = 0\n",
    "\n",
    "# init hidden state\n",
    "h = net.init_hidden(batch_size)\n",
    "\n",
    "net.eval()\n",
    "# iterate over test data\n",
    "for inputs, labels in test_loader:\n",
    "    batch_counter += 1\n",
    "    if batch_counter > batch_quit:\n",
    "        break  #it crashes if I run through the whole test.  I don't know why.\n",
    "    \n",
    "    # Creating new variables for the hidden state, otherwise\n",
    "    # we'd backprop through the entire training history\n",
    "    h = tuple([each.data for each in h])\n",
    "\n",
    "    if(train_on_gpu):\n",
    "        inputs, labels = inputs.cuda(), labels.cuda()\n",
    "    \n",
    "    # get predicted outputs\n",
    "    output, h = net(inputs, h)\n",
    "    #print(output)\n",
    "    total_preditions += len(output)\n",
    "    \n",
    "    # calculate loss\n",
    "    test_loss = criterion(output.squeeze(), labels.float())\n",
    "    test_losses.append(test_loss.item())\n",
    "    \n",
    "    # convert output probabilities to predicted class (0 or 1)\n",
    "    pred = torch.round(output.squeeze())  # rounds to the nearest integer\n",
    "    \n",
    "    # compare predictions to true label\n",
    "    correct_tensor = pred.eq(labels.float().view_as(pred))\n",
    "    correct = np.squeeze(correct_tensor.numpy()) if not train_on_gpu else np.squeeze(correct_tensor.cpu().numpy())\n",
    "    num_correct += np.sum(correct)\n",
    "    \n",
    "    if batch_counter > 10:\n",
    "        break\n",
    "\n",
    "\n",
    "# -- stats! -- ##\n",
    "# avg test loss\n",
    "print(\"Test loss: {:.3f}\".format(np.mean(test_losses)))\n",
    "\n",
    "# accuracy over all test data\n",
    "#test_acc = num_correct/len(test_loader.dataset)\n",
    "test_acc = num_correct/total_preditions\n",
    "print(\"Test accuracy: {:.3f}\".format(test_acc))"
   ]
  },
  {
   "cell_type": "markdown",
   "metadata": {},
   "source": [
    "### Inference on a test review\n",
    "\n",
    "You can change this test_review to any text that you want. Read it and think: is it pos or neg? Then see if your model predicts correctly!\n",
    "    \n",
    "> **Exercise:** Write a `predict` function that takes in a trained net, a plain text_review, and a sequence length, and prints out a custom statement for a positive or negative review!\n",
    "* You can use any functions that you've already defined or define any helper functions you want to complete `predict`, but it should just take in a trained net, a text review, and a sequence length.\n"
   ]
  },
  {
   "cell_type": "code",
   "execution_count": 82,
   "metadata": {},
   "outputs": [],
   "source": [
    "# negative test review\n",
    "test_review_neg = 'The worst movie I have seen; acting was terrible and I want my money back. This movie had bad acting and the dialogue was slow.'\n"
   ]
  },
  {
   "cell_type": "code",
   "execution_count": 125,
   "metadata": {},
   "outputs": [],
   "source": [
    "def preprocess_review(review_string, sequence_length=200):\n",
    "    review_string_no_punctuation = ''.join([c for c in review_string if c not in punctuation])\n",
    "    review_list = []\n",
    "    review_list.append(review_string_no_punctuation)\n",
    "    test_review_ints = convert_to_ints(review_list)\n",
    "    test_review_ints = pad_features(test_review_ints, sequence_length)\n",
    "    return test_review_ints\n",
    "    \n",
    "\n",
    "def predict(net, test_review, sequence_length=200):\n",
    "    ''' Prints out whether a give review is predicted to be \n",
    "        positive or negative in sentiment, using a trained model.\n",
    "        \n",
    "        params:\n",
    "        net - A trained net \n",
    "        test_review - a review made of normal text and punctuation\n",
    "        sequence_length - the padded length of a review\n",
    "        '''\n",
    "    test_batch_size = len(test_review)\n",
    "    \n",
    "    use_gpu = torch.cuda.is_available()\n",
    "    \n",
    "    if use_gpu:\n",
    "        net.cuda()\n",
    "    else:\n",
    "        net.cpu()\n",
    "    \n",
    "    h = net.init_hidden(test_batch_size)\n",
    "    input_tensor = torch.from_numpy(test_review)\n",
    "    \n",
    "    if use_gpu:\n",
    "        input_tensor = input_tensor.cuda()\n",
    "    \n",
    "    net.eval()\n",
    "\n",
    "    output, h = net(input_tensor, h)\n",
    "    \n",
    "    return output.cpu().detach().numpy()\n",
    "    \n",
    "    \n",
    "    \n",
    "# print custom response based on whether test_review is pos/neg\n",
    "\n",
    "\n",
    "net = SentimentRNN(vocab_size, output_size, embedding_dim, hidden_dim, n_layers)\n",
    "net.load_state_dict(torch.load(\"sentiment_rnn_model.pt\"))\n",
    "\n",
    "def predict_movie(review_text):\n",
    "    test_review_list = preprocess_review(review_text)\n",
    "    prediction = predict(net, test_review_list)\n",
    "\n",
    "    if prediction < 0.5:\n",
    "        print(\"this was a negative review ({:.3f}):\".format(prediction[0]))\n",
    "    else:\n",
    "        print(\"this was a positive review ({:.3f}):\".format(prediction[0]))\n",
    "    print(review_text)\n",
    "    \n"
   ]
  },
  {
   "cell_type": "code",
   "execution_count": 128,
   "metadata": {},
   "outputs": [
    {
     "name": "stdout",
     "output_type": "stream",
     "text": [
      "this was a negative review (0.022):\n",
      "The worst movie I have seen; acting was terrible and I want my money back. This movie had bad acting and the dialogue was slow.\n",
      "this was a positive review (0.974):\n",
      "This movie was the most fun I had in a long time. The action was terriffic. The actress made me laugh.\n"
     ]
    }
   ],
   "source": [
    "predict_movie(test_review_neg)\n",
    "\n",
    "# positive test review\n",
    "#test_review_pos = 'This movie had the best acting and the dialogue was so good. I loved it.'\n",
    "test_review_pos = 'This movie was the most fun I had in a long time. The action was terriffic. The actress made me laugh.'\n",
    "\n",
    "predict_movie(test_review_pos)"
   ]
  },
  {
   "cell_type": "markdown",
   "metadata": {},
   "source": [
    "### Try out test_reviews of your own!\n",
    "\n",
    "Now that you have a trained model and a predict function, you can pass in _any_ kind of text and this model will predict whether the text has a positive or negative sentiment. Push this model to its limits and try to find what words it associates with positive or negative.\n",
    "\n",
    "Later, you'll learn how to deploy a model like this to a production environment so that it can respond to any kind of user data put into a web app!"
   ]
  },
  {
   "cell_type": "code",
   "execution_count": 127,
   "metadata": {},
   "outputs": [
    {
     "name": "stdout",
     "output_type": "stream",
     "text": [
      "this was a positive review (0.802):\n",
      "<<insert movie review text here>>\n"
     ]
    }
   ],
   "source": [
    "test_review = '<<insert movie review text here>>'\n",
    "predict_movie(test_review)\n",
    "\n"
   ]
  },
  {
   "cell_type": "code",
   "execution_count": null,
   "metadata": {},
   "outputs": [],
   "source": []
  }
 ],
 "metadata": {
  "kernelspec": {
   "display_name": "Python 3",
   "language": "python",
   "name": "python3"
  },
  "language_info": {
   "codemirror_mode": {
    "name": "ipython",
    "version": 3
   },
   "file_extension": ".py",
   "mimetype": "text/x-python",
   "name": "python",
   "nbconvert_exporter": "python",
   "pygments_lexer": "ipython3",
   "version": "3.7.5"
  }
 },
 "nbformat": 4,
 "nbformat_minor": 2
}
